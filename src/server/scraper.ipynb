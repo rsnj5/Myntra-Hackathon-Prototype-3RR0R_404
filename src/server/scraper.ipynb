{
 "cells": [
  {
   "cell_type": "code",
   "execution_count": 2,
   "metadata": {},
   "outputs": [
    {
     "name": "stderr",
     "output_type": "stream",
     "text": [
      "WARNING: Ignoring invalid distribution ~ransformers (C:\\Python312\\Lib\\site-packages)\n",
      "WARNING: Ignoring invalid distribution ~ransformers (C:\\Python312\\Lib\\site-packages)\n"
     ]
    }
   ],
   "source": [
    "!pip install -q --user selenium webdriver-manager"
   ]
  },
  {
   "cell_type": "code",
   "execution_count": 3,
   "metadata": {},
   "outputs": [],
   "source": [
    "from selenium import webdriver\n",
    "from selenium.webdriver.chrome.service import Service\n",
    "from selenium.webdriver.common.by import By\n",
    "from selenium.common.exceptions import NoSuchElementException\n",
    "from webdriver_manager.chrome import ChromeDriverManager\n",
    "import pandas as pd\n",
    "import time\n",
    "from selenium.webdriver.chrome.options import Options"
   ]
  },
  {
   "cell_type": "code",
   "execution_count": 4,
   "metadata": {},
   "outputs": [],
   "source": [
    "df = pd.read_csv('myntra_product_data.csv')\n",
    "df = df.dropna(subset=['product_description'])\n",
    "\n",
    "service = Service(ChromeDriverManager().install())\n",
    "driver = webdriver.Chrome(service=service)\n",
    "\n",
    "image_links = []\n",
    "\n",
    "# Function to scrape image URL\n",
    "def scrape_image_url(link):\n",
    "    try:\n",
    "        driver.get(link)\n",
    "        time.sleep(2)  # Wait for the page to load\n",
    "\n",
    "        # Find the first image URL\n",
    "        image_url = driver.find_element(By.CSS_SELECTOR, '.image-grid-image').get_attribute('style')\n",
    "        image_url = image_url.split('url(\"')[1].split('\");')[0]  # Extract the URL from style attribute\n",
    "        \n",
    "        return image_url\n",
    "    except Exception as e:\n",
    "        print(f\"Error scraping {link}: {str(e)}\")\n",
    "        return None\n",
    "\n",
    "# Iterate through each link and scrape image URLs\n",
    "for link in df['link']:\n",
    "    image_links.append(scrape_image_url(link))\n",
    "\n",
    "# Add the image links to the DataFrame\n",
    "df['image_link'] = image_links\n",
    "\n",
    "# Close the WebDriver\n",
    "driver.quit()\n"
   ]
  },
  {
   "cell_type": "code",
   "execution_count": 6,
   "metadata": {},
   "outputs": [],
   "source": [
    "df.to_csv('myntra_product_data.csv',index=False)"
   ]
  },
  {
   "cell_type": "code",
   "execution_count": 3,
   "metadata": {},
   "outputs": [
    {
     "data": {
      "text/plain": [
       "42"
      ]
     },
     "execution_count": 3,
     "metadata": {},
     "output_type": "execute_result"
    }
   ],
   "source": [
    "urls = [\n",
    "    'https://www.myntra.com/women-kurtas-kurtis-suits?sort=popularity',\n",
    "    'https://www.myntra.com/ethnic-tops?sort=popularity',\n",
    "    'https://www.myntra.com/saree?sort=popularity',\n",
    "    'https://www.myntra.com/women-ethnic-wear?sort=popularity',\n",
    "    'https://www.myntra.com/women-ethnic-bottomwear?f=categories%3AChuridar%2CLeggings%2CSalwar',\n",
    "    'https://www.myntra.com/skirts-palazzos?sort=popularity',\n",
    "    'https://www.myntra.com/dress-material?sort=popularity',\n",
    "    'https://www.myntra.com/lehenga-choli?sort=popularity',\n",
    "    'https://www.myntra.com/dupatta-shawl?sort=popularity',\n",
    "    'https://www.myntra.com/women-jackets?sort=popularity',\n",
    "    'https://www.myntra.com/women-accessories?sort=popularity',\n",
    "    'https://www.myntra.com/women-watches?sort=popularity',\n",
    "    'https://www.myntra.com/dresses?f=Gender%3Amen%20women%2Cwomen',\n",
    "    'https://www.myntra.com/tops?sort=popularity',\n",
    "    'https://www.myntra.com/myntra-fashion-store?f=Categories%3ATshirts%3A%3AGender%3Amen%20women%2Cwomen',\n",
    "    'https://www.myntra.com/women-jeans?sort=popularity',\n",
    "    'https://www.myntra.com/women-trousers?sort=popularity',\n",
    "    'https://www.myntra.com/women-shorts-skirts?sort=popularity',\n",
    "    'https://www.myntra.com/myntra-fashion-store?f=Categories%3AClothing%20Set%2CCo-Ords%3A%3AGender%3Amen%20women%2Cwomen',\n",
    "    'https://www.myntra.com/playsuit?f=Gender%3Amen%20women%2Cwomen',\n",
    "    'https://www.myntra.com/jumpsuits?f=Gender%3Amen%20women%2Cwomen',\n",
    "    'https://www.myntra.com/women-shrugs?sort=popularity',\n",
    "    'https://www.myntra.com/women-sweaters-sweatshirts?sort=popularity',\n",
    "    'https://www.myntra.com/women-jackets-coats?sort=popularity',\n",
    "    'https://www.myntra.com/women-blazers-waistcoats?sort=popularity',\n",
    "    'https://www.myntra.com/myntra-fashion-store?f=Categories%3ACamisoles%2CChuridar%2CDresses%2CHarem%20Pants%2CJeans%2CKurta%20Sets%2CKurtas%2CKurtis%2CLeggings%2CLounge%20Tshirts%2CNightdress%2CPalazzos%2CShirts%2CShrug%2CSkirts%2CTops%2CTrack%20Pants%2CTrousers%2CTshirts%2CTunics%3A%3AGender%3Amen%20women%2Cwomen%3A%3AOccasion%3AMaternity',\n",
    "    'https://www.myntra.com/flats?sort=popularity',\n",
    "    'https://www.myntra.com/women-casual-shoes?sort=popularity',\n",
    "    'https://www.myntra.com/women-heels?sort=popularity',\n",
    "    'https://www.myntra.com/women-boots-menu?sort=popularity',\n",
    "    'https://www.myntra.com/women-sports-shoes?sort=popularity',\n",
    "    'https://www.myntra.com/women-sportswear-clothing?sort=popularity',\n",
    "    'https://www.myntra.com/women-sports-shoes?sort=popularity',\n",
    "    'https://www.myntra.com/bra?sort=popularity',\n",
    "    'https://www.myntra.com/camisoles-and-thermals?sort=popularity',\n",
    "    'https://www.myntra.com/women-swimwear?sort=popularity',\n",
    "    'https://www.myntra.com/women-loungewear-and-nightwear?sort=popularity',\n",
    "    'https://www.myntra.com/makeup?sort=popularity',\n",
    "    'https://www.myntra.com/skin-care?f=gender%3Amen%20women%2Cwomen',\n",
    "    'https://www.myntra.com/women-personal-care?f=brand%3ABobbi%20Brown%2CBvlgari%2CCalvin%20Klein%2CClinique%2CDAVIDOFF%2CDermalogica%2CForest%20Essentials%2CKAMA%20AYURVEDA%2CSalvatore%20Ferragamo',\n",
    "    'https://www.myntra.com/lipstick?sort=popularity',\n",
    "    'https://www.myntra.com/women-perfumes?sort=popularity'\n",
    "]\n",
    "len(urls)"
   ]
  },
  {
   "cell_type": "code",
   "execution_count": 4,
   "metadata": {},
   "outputs": [
    {
     "name": "stdout",
     "output_type": "stream",
     "text": [
      "Scraping complete\n"
     ]
    }
   ],
   "source": [
    "service = Service(ChromeDriverManager().install())\n",
    "driver = webdriver.Chrome(service=service)\n",
    "\n",
    "product_data = []\n",
    "\n",
    "product_limit = 50\n",
    "\n",
    "def extract_product_data():\n",
    "    global products_scraped\n",
    "    product_elements = driver.find_elements(By.CLASS_NAME, 'product-base')\n",
    "    for product in product_elements:\n",
    "        brand = product.find_element(By.CLASS_NAME, 'product-brand').text\n",
    "        name = product.find_element(By.CLASS_NAME, 'product-product').text\n",
    "        link = product.find_element(By.TAG_NAME, 'a').get_attribute('href')\n",
    "        product_data.append({'brand': brand, 'product': name, 'link': link})\n",
    "        products_scraped += 1\n",
    "        if products_scraped >= product_limit:\n",
    "            return True\n",
    "    return False\n",
    "\n",
    "for url in urls:\n",
    "    driver.get(url)\n",
    "    time.sleep(5) \n",
    "    products_scraped = 0\n",
    "    stop_scraping = False\n",
    "    while not stop_scraping:\n",
    "        stop_scraping = extract_product_data()\n",
    "        if not stop_scraping:\n",
    "            try:\n",
    "                next_button = driver.find_element(By.CLASS_NAME, 'pagination-next')\n",
    "                next_button.click()\n",
    "                time.sleep(5)  \n",
    "            except NoSuchElementException:\n",
    "                break\n",
    "\n",
    "driver.quit()\n",
    "\n",
    "df = pd.DataFrame(product_data, columns=['brand', 'product', 'link'])\n",
    "\n",
    "print(\"Scraping complete\")\n"
   ]
  },
  {
   "cell_type": "code",
   "execution_count": 5,
   "metadata": {},
   "outputs": [],
   "source": [
    "driver = webdriver.Chrome()\n",
    "\n",
    "product_descriptions = []\n",
    "\n",
    "for link in df['link']:\n",
    "    driver.get(link)\n",
    "    time.sleep(2)  # Wait for the page to load\n",
    "\n",
    "    try:\n",
    "        description_element = driver.find_element(By.CLASS_NAME, \"pdp-product-description-content\")\n",
    "        description_items = description_element.find_elements(By.TAG_NAME, \"li\")\n",
    "        description_text = \" | \".join([item.text for item in description_items])\n",
    "        product_descriptions.append(description_text)\n",
    "    except:\n",
    "        product_descriptions.append(None)\n",
    "\n",
    "df['product_description'] = product_descriptions\n",
    "\n",
    "driver.quit()\n"
   ]
  },
  {
   "cell_type": "code",
   "execution_count": 6,
   "metadata": {},
   "outputs": [],
   "source": [
    "df.to_csv('myntra_product_data.csv', index=False)"
   ]
  },
  {
   "cell_type": "code",
   "execution_count": null,
   "metadata": {},
   "outputs": [],
   "source": []
  }
 ],
 "metadata": {
  "kernelspec": {
   "display_name": "Python 3",
   "language": "python",
   "name": "python3"
  },
  "language_info": {
   "codemirror_mode": {
    "name": "ipython",
    "version": 3
   },
   "file_extension": ".py",
   "mimetype": "text/x-python",
   "name": "python",
   "nbconvert_exporter": "python",
   "pygments_lexer": "ipython3",
   "version": "3.12.2"
  }
 },
 "nbformat": 4,
 "nbformat_minor": 2
}
